{
 "cells": [
  {
   "cell_type": "code",
   "execution_count": 1,
   "metadata": {},
   "outputs": [],
   "source": [
    "import string"
   ]
  },
  {
   "cell_type": "code",
   "execution_count": 2,
   "metadata": {},
   "outputs": [],
   "source": [
    "def readTextFile(path):\n",
    "    plaintext_file = open(path,\"r\")\n",
    "    plaintext = plaintext_file.read().split(\"\\n\")\n",
    "    for i in range(len(plaintext)):\n",
    "        if(plaintext[i] == \"\"):\n",
    "            del plaintext[i]\n",
    "    plaintext_file.close()\n",
    "    return plaintext"
   ]
  },
  {
   "cell_type": "code",
   "execution_count": 3,
   "metadata": {},
   "outputs": [],
   "source": [
    "def keyStreamGenerator(plain_text , key , mode):\n",
    "    plain_text_len = len(plain_text)\n",
    "    keystream = key\n",
    "\n",
    "    if(mode == 'repeating'):\n",
    "        for i in range(len(plain_text) - len(key)):\n",
    "            keystream += keystream[i]\n",
    "            \n",
    "    elif(mode == 'auto'):\n",
    "        for i in range(len(plain_text) - len(key)):\n",
    "            keystream += plain_text[i]\n",
    "            \n",
    "    return keystream"
   ]
  },
  {
   "cell_type": "code",
   "execution_count": 4,
   "metadata": {},
   "outputs": [],
   "source": [
    "def vigenereCipher(plain_text , key , mode):\n",
    "    keystream = keyStreamGenerator(plain_text , key , mode)\n",
    "    ciphertext = \"\"\n",
    "    letters = string.ascii_lowercase\n",
    "    for i in range(len(plain_text)):\n",
    "        letters = string.ascii_lowercase\n",
    "        cletter = letters.find(plain_text[i]) + letters.find(keystream[i])\n",
    "        ciphertext += letters[cletter % 26]\n",
    "    return ciphertext"
   ]
  },
  {
   "cell_type": "code",
   "execution_count": 5,
   "metadata": {},
   "outputs": [
    {
     "name": "stdout",
     "output_type": "stream",
     "text": [
      "Vigenere Encryption with key = pie and mode = repeating: \n",
      "\n",
      "Plain text: mdampuaf ==> Cipher text: blebxypn\n",
      "\n",
      "Plain text: lemfazxf ==> Cipher text: amquidmn\n",
      "\n",
      "Plain text: njtealdb ==> Cipher text: crxtipsj\n",
      "\n",
      "Plain text: ozfidmge ==> Cipher text: dhjxlqvm\n",
      "\n",
      "Plain text: dbbadpez ==> Cipher text: sjfpltth\n",
      "\n",
      "----------------\n",
      "\n",
      "Vigenere Encryption with key = aether and mode = auto: \n",
      "\n",
      "Plain text: mdampuaf ==> Cipher text: mhtttlmi\n",
      "\n",
      "Plain text: lemfazxf ==> Cipher text: lifmeqij\n",
      "\n",
      "Plain text: njtealdb ==> Cipher text: nnmlecqk\n",
      "\n",
      "Plain text: ozfidmge ==> Cipher text: odyphdud\n",
      "\n",
      "Plain text: dbbadpez ==> Cipher text: dfuhhgha\n",
      "\n",
      "----------------\n",
      "\n",
      "Encryption completed successfully.\n"
     ]
    }
   ],
   "source": [
    "vigenere_plainText = readTextFile(\"Input Files\\Vigenere\\\\vigenere_plain.txt\")\n",
    "key = {'repeating':'pie' , 'auto':'aether'}\n",
    "cipher_text = \"\"\n",
    "for mode in key:\n",
    "    print(\"Vigenere Encryption with key = \" + key[mode] + \" and mode = \" + mode + \": \\n\")\n",
    "    for i in range(len(vigenere_plainText)):\n",
    "        cipher_text = vigenereCipher(vigenere_plainText[i] , key[mode] , mode)\n",
    "        with open('Vigenere Encryption\\\\' + str(key[mode]) + \"_\" + str(mode) + '.txt','a') as txt:\n",
    "            txt.write(cipher_text + '\\n')\n",
    "            print(\"Plain text: \" + vigenere_plainText[i] + \" ==> Cipher text: \" + cipher_text +'\\n')\n",
    "        cipher_text = \"\"\n",
    "    print(\"----------------\\n\")\n",
    "print(\"Encryption completed successfully.\")"
   ]
  }
 ],
 "metadata": {
  "kernelspec": {
   "display_name": "Python 3",
   "language": "python",
   "name": "python3"
  },
  "language_info": {
   "codemirror_mode": {
    "name": "ipython",
    "version": 3
   },
   "file_extension": ".py",
   "mimetype": "text/x-python",
   "name": "python",
   "nbconvert_exporter": "python",
   "pygments_lexer": "ipython3",
   "version": "3.7.0"
  }
 },
 "nbformat": 4,
 "nbformat_minor": 2
}
