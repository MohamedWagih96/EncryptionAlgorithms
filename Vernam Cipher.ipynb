{
 "cells": [
  {
   "cell_type": "code",
   "execution_count": 1,
   "metadata": {},
   "outputs": [],
   "source": [
    "import string"
   ]
  },
  {
   "cell_type": "code",
   "execution_count": 2,
   "metadata": {},
   "outputs": [],
   "source": [
    "def readTextFile(path):\n",
    "    plaintext_file = open(path,\"r\")\n",
    "    plaintext = plaintext_file.read().split(\"\\n\")\n",
    "    for i in range(len(plaintext)):\n",
    "        if(plaintext[i] == \"\"):\n",
    "            del plaintext[i]\n",
    "    plaintext_file.close()\n",
    "    return plaintext"
   ]
  },
  {
   "cell_type": "code",
   "execution_count": 3,
   "metadata": {},
   "outputs": [],
   "source": [
    "def vernamCipher(plain_text , key):\n",
    "    cipher_text = \"\"\n",
    "    letters = string.ascii_uppercase\n",
    "    for i in range(len(plain_text)):\n",
    "        shift = (letters.find(plain_text[i]) + letters.find(key[i])) % 26\n",
    "        cipher_text += letters[shift]\n",
    "    \n",
    "    return cipher_text     "
   ]
  },
  {
   "cell_type": "code",
   "execution_count": 4,
   "metadata": {},
   "outputs": [
    {
     "name": "stdout",
     "output_type": "stream",
     "text": [
      "Vernam Encryption with key = SPARTANS : \n",
      "\n",
      "Plain text: PXPTYRFJ ==> Cipher text: HMPKRRSB\n",
      "\n",
      "Plain text: FXGWYEAU ==> Cipher text: XMGNRENM\n",
      "\n",
      "Plain text: BBMHCXHP ==> Cipher text: TQMYVXUH\n",
      "\n",
      "Plain text: SVQMBZGJ ==> Cipher text: KKQDUZTB\n",
      "\n",
      "Plain text: PLIVFAJW ==> Cipher text: HAIMYAWO\n",
      "\n",
      "----------------\n",
      "\n",
      "Encryption completed successfully.\n"
     ]
    }
   ],
   "source": [
    "vernam_plainText = readTextFile(\"Input Files\\Vernam\\\\vernam_plain.txt\")\n",
    "keys = ['SPARTANS']\n",
    "cipher_text = \"\"\n",
    "for i in range(len(keys)):\n",
    "    print(\"Vernam Encryption with key = \" + keys[i] +  \" : \\n\")\n",
    "    for j in range(len(vernam_plainText)):\n",
    "        cipher_text += vernamCipher(vernam_plainText[j] , keys[i])\n",
    "        with open('Vernam Encryption\\\\' + keys[i] + '.txt','a') as txt:\n",
    "            txt.write(cipher_text + '\\n')\n",
    "            print(\"Plain text: \" + vernam_plainText[j] + \" ==> Cipher text: \" + cipher_text +'\\n')\n",
    "        cipher_text = \"\"\n",
    "    print(\"----------------\\n\")\n",
    "print(\"Encryption completed successfully.\")"
   ]
  }
 ],
 "metadata": {
  "kernelspec": {
   "display_name": "Python 3",
   "language": "python",
   "name": "python3"
  },
  "language_info": {
   "codemirror_mode": {
    "name": "ipython",
    "version": 3
   },
   "file_extension": ".py",
   "mimetype": "text/x-python",
   "name": "python",
   "nbconvert_exporter": "python",
   "pygments_lexer": "ipython3",
   "version": "3.7.0"
  }
 },
 "nbformat": 4,
 "nbformat_minor": 2
}
