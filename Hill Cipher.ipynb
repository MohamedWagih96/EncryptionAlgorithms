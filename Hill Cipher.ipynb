{
 "cells": [
  {
   "cell_type": "code",
   "execution_count": 1,
   "metadata": {},
   "outputs": [],
   "source": [
    "import numpy as np , string"
   ]
  },
  {
   "cell_type": "code",
   "execution_count": 2,
   "metadata": {},
   "outputs": [],
   "source": [
    "def readTextFile(path):\n",
    "    plaintext_file = open(path,\"r\")\n",
    "    plaintext = plaintext_file.read().split(\"\\n\")\n",
    "    for i in range(len(plaintext)):\n",
    "        if(plaintext[i] == \"\"):\n",
    "            del plaintext[i]\n",
    "    plaintext_file.close()\n",
    "    return plaintext"
   ]
  },
  {
   "cell_type": "code",
   "execution_count": 3,
   "metadata": {},
   "outputs": [],
   "source": [
    "def split(plain_text , n):\n",
    "    splitted_plain_text = list(\"\")\n",
    "    for i in range(0 , len(plain_text) , n):\n",
    "        splitted_plain_text.append(plain_text[i : i+n])\n",
    "\n",
    "    for j in range(abs(len(splitted_plain_text[len(splitted_plain_text)-1]) - n)):    \n",
    "        if(len(plain_text)%2 == 1 and n%2 == 1 or n%2 == 1):\n",
    "            splitted_plain_text[len(splitted_plain_text)-1] += 'x'\n",
    "        \n",
    "    return splitted_plain_text"
   ]
  },
  {
   "cell_type": "code",
   "execution_count": 4,
   "metadata": {},
   "outputs": [],
   "source": [
    "def hillCipher(plain_text , keyMatrix):\n",
    "    R,C = keyMatrix.shape\n",
    "    kMatrix = keyMatrix\n",
    "    pMatrix = np.zeros((R,1) , dtype = np.int64)\n",
    "    letters = string.ascii_uppercase\n",
    "    cipher_text = \"\"\n",
    "    \n",
    "    splitted_plain_text = split(plain_text , C)\n",
    "    \n",
    "    for i in range(len(splitted_plain_text)):\n",
    "        part = splitted_plain_text[i]\n",
    "        r = 0\n",
    "        for j in range(len(part)):\n",
    "            pMatrix[r , 0] = letters.find(part[j])\n",
    "            r += 1\n",
    "            \n",
    "        km = np.matrix(kMatrix)\n",
    "        pm = np.matrix(pMatrix)\n",
    "        result = (km * pm)%26\n",
    "        \n",
    "        for k in range(R):\n",
    "            cipher_text += letters[int(str(result[k,:]).lstrip('[').rstrip(']'))]\n",
    "    return cipher_text"
   ]
  },
  {
   "cell_type": "code",
   "execution_count": 5,
   "metadata": {},
   "outputs": [
    {
     "name": "stdout",
     "output_type": "stream",
     "text": [
      "Hill Encryption with key = \n",
      "[[ 5 17]\n",
      " [ 8  3]]\n",
      "\n",
      "Plain text: VVMSQFGA ==> Cipher text: UXCUJNEW\n",
      "\n",
      "Plain text: IUETTRZQ ==> Cipher text: QUFLUVHO\n",
      "\n",
      "Plain text: DAKYTDGF ==> Cipher text: PYQWQFLL\n",
      "\n",
      "Plain text: VQUNPMHV ==> Cipher text: NIJRTACP\n",
      "\n",
      "----------------\n",
      "\n",
      "Hill Encryption with key = \n",
      "[[ 2  4 12]\n",
      " [ 9  1  6]\n",
      " [ 7  5  3]]\n",
      "\n",
      "Plain text: YGREBGHZ ==> Cipher text: QMPGVZYEP\n",
      "\n",
      "Plain text: BKDLPUKN ==> Cipher text: ALOKAEITC\n",
      "\n",
      "Plain text: FSSZULIH ==> Cipher text: MPXCZWGVK\n",
      "\n",
      "Plain text: JFOXRSFQ ==> Cipher text: YOASUOKDI\n",
      "\n",
      "----------------\n",
      "\n",
      "Encryption completed successfully.\n"
     ]
    }
   ],
   "source": [
    "hill_plainText_2x2 = readTextFile(\"Input Files\\Hill\\\\hill_plain_2x2.txt\")\n",
    "hill_plainText_3x3 = readTextFile(\"Input Files\\Hill\\\\hill_plain_3x3.txt\")\n",
    "\n",
    "k_2x2 = np.matrix(([[5 , 17],[8 , 3]]) , dtype= np.int64)\n",
    "k_3x3 = np.matrix(([[2 , 4 , 12] , [9 , 1 , 6] , [7 , 5 , 3]]) , dtype=np.int64)\n",
    "\n",
    "print(\"Hill Encryption with key = \")\n",
    "print(str(k_2x2) + \"\\n\")\n",
    "for i in range(len(hill_plainText_2x2)):\n",
    "    cipher_text_2x2 = hillCipher(hill_plainText_2x2[i] , k_2x2)\n",
    "    with open('Hill Encryption\\\\2x2.txt','a') as txt:\n",
    "        txt.write(cipher_text_2x2 + '\\n')\n",
    "        print(\"Plain text: \" + hill_plainText_2x2[i] + \" ==> Cipher text: \" + cipher_text_2x2 +'\\n')\n",
    "\n",
    "print(\"----------------\\n\")\n",
    "\n",
    "print(\"Hill Encryption with key = \")\n",
    "print(str(k_3x3) + \"\\n\")\n",
    "for j in range(len(hill_plainText_3x3)):\n",
    "    cipher_text_3x3 = hillCipher(hill_plainText_3x3[j] , k_3x3)\n",
    "    with open('Hill Encryption\\\\3x3.txt','a') as txt:\n",
    "        txt.write(cipher_text_3x3 + '\\n')\n",
    "        print(\"Plain text: \" + hill_plainText_3x3[j] + \" ==> Cipher text: \" + cipher_text_3x3 +'\\n')\n",
    "        \n",
    "print(\"----------------\\n\")      \n",
    "print(\"Encryption completed successfully.\")"
   ]
  }
 ],
 "metadata": {
  "kernelspec": {
   "display_name": "Python 3",
   "language": "python",
   "name": "python3"
  },
  "language_info": {
   "codemirror_mode": {
    "name": "ipython",
    "version": 3
   },
   "file_extension": ".py",
   "mimetype": "text/x-python",
   "name": "python",
   "nbconvert_exporter": "python",
   "pygments_lexer": "ipython3",
   "version": "3.7.0"
  }
 },
 "nbformat": 4,
 "nbformat_minor": 2
}
