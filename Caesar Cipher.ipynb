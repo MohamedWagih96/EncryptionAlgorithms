{
 "cells": [
  {
   "cell_type": "code",
   "execution_count": 1,
   "metadata": {},
   "outputs": [],
   "source": [
    "def readTextFile(path):\n",
    "    plaintext_file = open(path,\"r\")\n",
    "    plaintext = plaintext_file.read().split(\"\\n\")\n",
    "    plaintext_file.close()\n",
    "    return plaintext"
   ]
  },
  {
   "cell_type": "code",
   "execution_count": 2,
   "metadata": {},
   "outputs": [],
   "source": [
    "def caesarCipher(plaintext , key):\n",
    "    letter = list(plaintext)\n",
    "    cipher_text = \"\"\n",
    "    for i in range(len(letter)):\n",
    "        shifted_letter_code = ord(letter[i]) + key\n",
    "        if(shifted_letter_code > 122):\n",
    "            shifted_letter_code = (shifted_letter_code % 122) + 96\n",
    "        cipher_text += chr(shifted_letter_code)\n",
    "        \n",
    "    return cipher_text"
   ]
  },
  {
   "cell_type": "code",
   "execution_count": 3,
   "metadata": {},
   "outputs": [
    {
     "name": "stdout",
     "output_type": "stream",
     "text": [
      "Caesar Encryption with key = 3 : \n",
      "\n",
      "Plain text: dimtnywk ==> Cipher text: glpwqbzn\n",
      "\n",
      "Plain text: gcqrfxuv ==> Cipher text: jftuiaxy\n",
      "\n",
      "Plain text: fmjdkujf ==> Cipher text: ipmgnxmi\n",
      "\n",
      "Plain text: yntgfsjx ==> Cipher text: bqwjivma\n",
      "\n",
      "Plain text: njvippvv ==> Cipher text: qmylssyy\n",
      "\n",
      "----------------\n",
      "\n",
      "Caesar Encryption with key = 6 : \n",
      "\n",
      "Plain text: dimtnywk ==> Cipher text: josztecq\n",
      "\n",
      "Plain text: gcqrfxuv ==> Cipher text: miwxldab\n",
      "\n",
      "Plain text: fmjdkujf ==> Cipher text: lspjqapl\n",
      "\n",
      "Plain text: yntgfsjx ==> Cipher text: etzmlypd\n",
      "\n",
      "Plain text: njvippvv ==> Cipher text: tpbovvbb\n",
      "\n",
      "----------------\n",
      "\n",
      "Caesar Encryption with key = 12 : \n",
      "\n",
      "Plain text: dimtnywk ==> Cipher text: puyfzkiw\n",
      "\n",
      "Plain text: gcqrfxuv ==> Cipher text: socdrjgh\n",
      "\n",
      "Plain text: fmjdkujf ==> Cipher text: ryvpwgvr\n",
      "\n",
      "Plain text: yntgfsjx ==> Cipher text: kzfsrevj\n",
      "\n",
      "Plain text: njvippvv ==> Cipher text: zvhubbhh\n",
      "\n",
      "----------------\n",
      "\n",
      "Encryption completed successfully.\n"
     ]
    }
   ],
   "source": [
    "caesar_plaintext = readTextFile(\"Input Files\\Caesar\\caesar_plain.txt\")\n",
    "k = [3,6,12]\n",
    "for i in range(len(k)):\n",
    "    print(\"Caesar Encryption with key = \" + str(k[i]) +  \" : \\n\")\n",
    "    for j in range(len(caesar_plaintext)):\n",
    "        with open('Caesar Encryption\\\\'+ str(k[i]) + '.txt' ,'a') as txt:\n",
    "            txt.write(caesarCipher(caesar_plaintext[j],k[i])+'\\n')\n",
    "            print(\"Plain text: \" + caesar_plaintext[j] + \" ==> Cipher text: \" + caesarCipher(caesar_plaintext[j],k[i])+'\\n')\n",
    "            \n",
    "    print(\"----------------\\n\")\n",
    "print(\"Encryption completed successfully.\")"
   ]
  }
 ],
 "metadata": {
  "kernelspec": {
   "display_name": "Python 3",
   "language": "python",
   "name": "python3"
  },
  "language_info": {
   "codemirror_mode": {
    "name": "ipython",
    "version": 3
   },
   "file_extension": ".py",
   "mimetype": "text/x-python",
   "name": "python",
   "nbconvert_exporter": "python",
   "pygments_lexer": "ipython3",
   "version": "3.7.0"
  }
 },
 "nbformat": 4,
 "nbformat_minor": 2
}
